{
 "cells": [
  {
   "cell_type": "code",
   "execution_count": 1,
   "metadata": {},
   "outputs": [],
   "source": [
    "import pandas as pd\n",
    "import numpy as np\n",
    "import matplotlib.pyplot as plt\n",
    "import seaborn as sns\n",
    "from sklearn.model_selection import train_test_split\n",
    "from sklearn.preprocessing import StandardScaler, MinMaxScaler\n",
    "from sklearn.linear_model import LinearRegression\n",
    "from sklearn.metrics import r2_score, mean_squared_error"
   ]
  },
  {
   "cell_type": "code",
   "execution_count": 2,
   "metadata": {},
   "outputs": [
    {
     "data": {
      "text/html": [
       "<div>\n",
       "<style scoped>\n",
       "    .dataframe tbody tr th:only-of-type {\n",
       "        vertical-align: middle;\n",
       "    }\n",
       "\n",
       "    .dataframe tbody tr th {\n",
       "        vertical-align: top;\n",
       "    }\n",
       "\n",
       "    .dataframe thead th {\n",
       "        text-align: right;\n",
       "    }\n",
       "</style>\n",
       "<table border=\"1\" class=\"dataframe\">\n",
       "  <thead>\n",
       "    <tr style=\"text-align: right;\">\n",
       "      <th></th>\n",
       "      <th>UR</th>\n",
       "      <th>EE</th>\n",
       "    </tr>\n",
       "  </thead>\n",
       "  <tbody>\n",
       "    <tr>\n",
       "      <th>0</th>\n",
       "      <td>5.48</td>\n",
       "      <td>16635535</td>\n",
       "    </tr>\n",
       "    <tr>\n",
       "      <th>1</th>\n",
       "      <td>5.83</td>\n",
       "      <td>16545652</td>\n",
       "    </tr>\n",
       "    <tr>\n",
       "      <th>2</th>\n",
       "      <td>5.79</td>\n",
       "      <td>15881197</td>\n",
       "    </tr>\n",
       "    <tr>\n",
       "      <th>3</th>\n",
       "      <td>20.51</td>\n",
       "      <td>11336911</td>\n",
       "    </tr>\n",
       "    <tr>\n",
       "      <th>4</th>\n",
       "      <td>17.43</td>\n",
       "      <td>12988845</td>\n",
       "    </tr>\n",
       "    <tr>\n",
       "      <th>...</th>\n",
       "      <td>...</td>\n",
       "      <td>...</td>\n",
       "    </tr>\n",
       "    <tr>\n",
       "      <th>262</th>\n",
       "      <td>7.29</td>\n",
       "      <td>30726310</td>\n",
       "    </tr>\n",
       "    <tr>\n",
       "      <th>263</th>\n",
       "      <td>6.83</td>\n",
       "      <td>35372506</td>\n",
       "    </tr>\n",
       "    <tr>\n",
       "      <th>264</th>\n",
       "      <td>14.87</td>\n",
       "      <td>33298644</td>\n",
       "    </tr>\n",
       "    <tr>\n",
       "      <th>265</th>\n",
       "      <td>9.35</td>\n",
       "      <td>35707239</td>\n",
       "    </tr>\n",
       "    <tr>\n",
       "      <th>266</th>\n",
       "      <td>9.98</td>\n",
       "      <td>33962549</td>\n",
       "    </tr>\n",
       "  </tbody>\n",
       "</table>\n",
       "<p>267 rows × 2 columns</p>\n",
       "</div>"
      ],
      "text/plain": [
       "        UR        EE\n",
       "0     5.48  16635535\n",
       "1     5.83  16545652\n",
       "2     5.79  15881197\n",
       "3    20.51  11336911\n",
       "4    17.43  12988845\n",
       "..     ...       ...\n",
       "262   7.29  30726310\n",
       "263   6.83  35372506\n",
       "264  14.87  33298644\n",
       "265   9.35  35707239\n",
       "266   9.98  33962549\n",
       "\n",
       "[267 rows x 2 columns]"
      ]
     },
     "execution_count": 2,
     "metadata": {},
     "output_type": "execute_result"
    }
   ],
   "source": [
    "data=pd.read_csv(\"//home//alanjohn//Downloads//u3.csv\")\n",
    "data"
   ]
  },
  {
   "cell_type": "code",
   "execution_count": 3,
   "metadata": {},
   "outputs": [
    {
     "data": {
      "text/html": [
       "<div>\n",
       "<style scoped>\n",
       "    .dataframe tbody tr th:only-of-type {\n",
       "        vertical-align: middle;\n",
       "    }\n",
       "\n",
       "    .dataframe tbody tr th {\n",
       "        vertical-align: top;\n",
       "    }\n",
       "\n",
       "    .dataframe thead th {\n",
       "        text-align: right;\n",
       "    }\n",
       "</style>\n",
       "<table border=\"1\" class=\"dataframe\">\n",
       "  <thead>\n",
       "    <tr style=\"text-align: right;\">\n",
       "      <th></th>\n",
       "      <th>UR</th>\n",
       "      <th>EE</th>\n",
       "    </tr>\n",
       "  </thead>\n",
       "  <tbody>\n",
       "    <tr>\n",
       "      <th>262</th>\n",
       "      <td>7.29</td>\n",
       "      <td>30726310</td>\n",
       "    </tr>\n",
       "    <tr>\n",
       "      <th>263</th>\n",
       "      <td>6.83</td>\n",
       "      <td>35372506</td>\n",
       "    </tr>\n",
       "    <tr>\n",
       "      <th>264</th>\n",
       "      <td>14.87</td>\n",
       "      <td>33298644</td>\n",
       "    </tr>\n",
       "    <tr>\n",
       "      <th>265</th>\n",
       "      <td>9.35</td>\n",
       "      <td>35707239</td>\n",
       "    </tr>\n",
       "    <tr>\n",
       "      <th>266</th>\n",
       "      <td>9.98</td>\n",
       "      <td>33962549</td>\n",
       "    </tr>\n",
       "  </tbody>\n",
       "</table>\n",
       "</div>"
      ],
      "text/plain": [
       "        UR        EE\n",
       "262   7.29  30726310\n",
       "263   6.83  35372506\n",
       "264  14.87  33298644\n",
       "265   9.35  35707239\n",
       "266   9.98  33962549"
      ]
     },
     "execution_count": 3,
     "metadata": {},
     "output_type": "execute_result"
    }
   ],
   "source": [
    "data.tail()"
   ]
  },
  {
   "cell_type": "code",
   "execution_count": 4,
   "metadata": {},
   "outputs": [
    {
     "data": {
      "text/html": [
       "<div>\n",
       "<style scoped>\n",
       "    .dataframe tbody tr th:only-of-type {\n",
       "        vertical-align: middle;\n",
       "    }\n",
       "\n",
       "    .dataframe tbody tr th {\n",
       "        vertical-align: top;\n",
       "    }\n",
       "\n",
       "    .dataframe thead th {\n",
       "        text-align: right;\n",
       "    }\n",
       "</style>\n",
       "<table border=\"1\" class=\"dataframe\">\n",
       "  <thead>\n",
       "    <tr style=\"text-align: right;\">\n",
       "      <th></th>\n",
       "      <th>UR</th>\n",
       "      <th>EE</th>\n",
       "    </tr>\n",
       "  </thead>\n",
       "  <tbody>\n",
       "    <tr>\n",
       "      <th>0</th>\n",
       "      <td>False</td>\n",
       "      <td>False</td>\n",
       "    </tr>\n",
       "    <tr>\n",
       "      <th>1</th>\n",
       "      <td>False</td>\n",
       "      <td>False</td>\n",
       "    </tr>\n",
       "    <tr>\n",
       "      <th>2</th>\n",
       "      <td>False</td>\n",
       "      <td>False</td>\n",
       "    </tr>\n",
       "    <tr>\n",
       "      <th>3</th>\n",
       "      <td>False</td>\n",
       "      <td>False</td>\n",
       "    </tr>\n",
       "    <tr>\n",
       "      <th>4</th>\n",
       "      <td>False</td>\n",
       "      <td>False</td>\n",
       "    </tr>\n",
       "    <tr>\n",
       "      <th>...</th>\n",
       "      <td>...</td>\n",
       "      <td>...</td>\n",
       "    </tr>\n",
       "    <tr>\n",
       "      <th>262</th>\n",
       "      <td>False</td>\n",
       "      <td>False</td>\n",
       "    </tr>\n",
       "    <tr>\n",
       "      <th>263</th>\n",
       "      <td>False</td>\n",
       "      <td>False</td>\n",
       "    </tr>\n",
       "    <tr>\n",
       "      <th>264</th>\n",
       "      <td>False</td>\n",
       "      <td>False</td>\n",
       "    </tr>\n",
       "    <tr>\n",
       "      <th>265</th>\n",
       "      <td>False</td>\n",
       "      <td>False</td>\n",
       "    </tr>\n",
       "    <tr>\n",
       "      <th>266</th>\n",
       "      <td>False</td>\n",
       "      <td>False</td>\n",
       "    </tr>\n",
       "  </tbody>\n",
       "</table>\n",
       "<p>267 rows × 2 columns</p>\n",
       "</div>"
      ],
      "text/plain": [
       "        UR     EE\n",
       "0    False  False\n",
       "1    False  False\n",
       "2    False  False\n",
       "3    False  False\n",
       "4    False  False\n",
       "..     ...    ...\n",
       "262  False  False\n",
       "263  False  False\n",
       "264  False  False\n",
       "265  False  False\n",
       "266  False  False\n",
       "\n",
       "[267 rows x 2 columns]"
      ]
     },
     "execution_count": 4,
     "metadata": {},
     "output_type": "execute_result"
    }
   ],
   "source": [
    "data.isnull()"
   ]
  },
  {
   "cell_type": "code",
   "execution_count": 5,
   "metadata": {},
   "outputs": [
    {
     "data": {
      "text/plain": [
       "UR    0\n",
       "EE    0\n",
       "dtype: int64"
      ]
     },
     "execution_count": 5,
     "metadata": {},
     "output_type": "execute_result"
    }
   ],
   "source": [
    "data.isnull().sum()"
   ]
  },
  {
   "cell_type": "code",
   "execution_count": 6,
   "metadata": {},
   "outputs": [
    {
     "data": {
      "text/plain": [
       "<bound method DataFrame.info of         UR        EE\n",
       "0     5.48  16635535\n",
       "1     5.83  16545652\n",
       "2     5.79  15881197\n",
       "3    20.51  11336911\n",
       "4    17.43  12988845\n",
       "..     ...       ...\n",
       "262   7.29  30726310\n",
       "263   6.83  35372506\n",
       "264  14.87  33298644\n",
       "265   9.35  35707239\n",
       "266   9.98  33962549\n",
       "\n",
       "[267 rows x 2 columns]>"
      ]
     },
     "execution_count": 6,
     "metadata": {},
     "output_type": "execute_result"
    }
   ],
   "source": [
    "data.info"
   ]
  },
  {
   "cell_type": "code",
   "execution_count": 7,
   "metadata": {},
   "outputs": [
    {
     "data": {
      "text/plain": [
       "<matplotlib.axes._subplots.AxesSubplot at 0x7fdc97e4df70>"
      ]
     },
     "execution_count": 7,
     "metadata": {},
     "output_type": "execute_result"
    },
    {
     "data": {
      "image/png": "[encoded data removed]",
      "text/plain": [
       "<Figure size 640x480 with 1 Axes>"
      ]
     },
     "metadata": {},
     "output_type": "display_data"
    }
   ],
   "source": [
    "data.plot()"
   ]
  },
  {
   "cell_type": "code",
   "execution_count": 8,
   "metadata": {},
   "outputs": [
    {
     "data": {
      "text/html": [
       "<div>\n",
       "<style scoped>\n",
       "    .dataframe tbody tr th:only-of-type {\n",
       "        vertical-align: middle;\n",
       "    }\n",
       "\n",
       "    .dataframe tbody tr th {\n",
       "        vertical-align: top;\n",
       "    }\n",
       "\n",
       "    .dataframe thead th {\n",
       "        text-align: right;\n",
       "    }\n",
       "</style>\n",
       "<table border=\"1\" class=\"dataframe\">\n",
       "  <thead>\n",
       "    <tr style=\"text-align: right;\">\n",
       "      <th></th>\n",
       "      <th>UR</th>\n",
       "      <th>EE</th>\n",
       "    </tr>\n",
       "  </thead>\n",
       "  <tbody>\n",
       "    <tr>\n",
       "      <th>count</th>\n",
       "      <td>267.000000</td>\n",
       "      <td>2.670000e+02</td>\n",
       "    </tr>\n",
       "    <tr>\n",
       "      <th>mean</th>\n",
       "      <td>12.236929</td>\n",
       "      <td>1.396211e+07</td>\n",
       "    </tr>\n",
       "    <tr>\n",
       "      <th>std</th>\n",
       "      <td>10.803283</td>\n",
       "      <td>1.336632e+07</td>\n",
       "    </tr>\n",
       "    <tr>\n",
       "      <th>min</th>\n",
       "      <td>0.500000</td>\n",
       "      <td>1.175420e+05</td>\n",
       "    </tr>\n",
       "    <tr>\n",
       "      <th>25%</th>\n",
       "      <td>4.845000</td>\n",
       "      <td>2.838930e+06</td>\n",
       "    </tr>\n",
       "    <tr>\n",
       "      <th>50%</th>\n",
       "      <td>9.650000</td>\n",
       "      <td>9.732417e+06</td>\n",
       "    </tr>\n",
       "    <tr>\n",
       "      <th>75%</th>\n",
       "      <td>16.755000</td>\n",
       "      <td>2.187869e+07</td>\n",
       "    </tr>\n",
       "    <tr>\n",
       "      <th>max</th>\n",
       "      <td>75.850000</td>\n",
       "      <td>5.943376e+07</td>\n",
       "    </tr>\n",
       "  </tbody>\n",
       "</table>\n",
       "</div>"
      ],
      "text/plain": [
       "               UR            EE\n",
       "count  267.000000  2.670000e+02\n",
       "mean    12.236929  1.396211e+07\n",
       "std     10.803283  1.336632e+07\n",
       "min      0.500000  1.175420e+05\n",
       "25%      4.845000  2.838930e+06\n",
       "50%      9.650000  9.732417e+06\n",
       "75%     16.755000  2.187869e+07\n",
       "max     75.850000  5.943376e+07"
      ]
     },
     "execution_count": 8,
     "metadata": {},
     "output_type": "execute_result"
    }
   ],
   "source": [
    "data.describe()"
   ]
  },
  {
   "cell_type": "code",
   "execution_count": 9,
   "metadata": {},
   "outputs": [
    {
     "data": {
      "image/png": "[encoded data removed]",
      "text/plain": [
       "<Figure size 640x480 with 1 Axes>"
      ]
     },
     "metadata": {},
     "output_type": "display_data"
    }
   ],
   "source": [
    "plt.scatter(data['UR'],data['EE'])\n",
    "plt.xlabel('UR')\n",
    "plt.ylabel('EE')\n",
    "plt.show()"
   ]
  },
  {
   "cell_type": "code",
   "execution_count": 10,
   "metadata": {},
   "outputs": [
    {
     "data": {
      "text/plain": [
       "<seaborn.axisgrid.FacetGrid at 0x7fdcc40ea100>"
      ]
     },
     "execution_count": 10,
     "metadata": {},
     "output_type": "execute_result"
    },
    {
     "data": {
      "image/png": "[encoded data removed]",
      "text/plain": [
       "<Figure size 500x500 with 1 Axes>"
      ]
     },
     "metadata": {},
     "output_type": "display_data"
    }
   ],
   "source": [
    "sns.relplot(x='UR',y='EE',data=data)"
   ]
  },
  {
   "cell_type": "code",
   "execution_count": 11,
   "metadata": {},
   "outputs": [],
   "source": [
    "x=data.drop('UR',axis=1)\n",
    "y=data['UR']"
   ]
  },
  {
   "cell_type": "code",
   "execution_count": 12,
   "metadata": {},
   "outputs": [
    {
     "data": {
      "text/plain": [
       "((267, 1), (267,))"
      ]
     },
     "execution_count": 12,
     "metadata": {},
     "output_type": "execute_result"
    }
   ],
   "source": [
    "x.shape, y.shape"
   ]
  },
  {
   "cell_type": "code",
   "execution_count": 13,
   "metadata": {},
   "outputs": [
    {
     "data": {
      "text/plain": [
       "((133, 1), (134, 1), (133,), (134,))"
      ]
     },
     "execution_count": 13,
     "metadata": {},
     "output_type": "execute_result"
    }
   ],
   "source": [
    "x_train,x_test,y_train,y_test=train_test_split(x,y,random_state=0,test_size=0.5)\n",
    "x_train.shape, x_test.shape, y_train.shape, y_test.shape"
   ]
  },
  {
   "cell_type": "code",
   "execution_count": 14,
   "metadata": {},
   "outputs": [
    {
     "data": {
      "text/html": [
       "<style>#sk-container-id-1 {color: black;background-color: white;}#sk-container-id-1 pre{padding: 0;}#sk-container-id-1 div.sk-toggleable {background-color: white;}#sk-container-id-1 label.sk-toggleable__label {cursor: pointer;display: block;width: 100%;margin-bottom: 0;padding: 0.3em;box-sizing: border-box;text-align: center;}#sk-container-id-1 label.sk-toggleable__label-arrow:before {content: \"▸\";float: left;margin-right: 0.25em;color: #696969;}#sk-container-id-1 label.sk-toggleable__label-arrow:hover:before {color: black;}#sk-container-id-1 div.sk-estimator:hover label.sk-toggleable__label-arrow:before {color: black;}#sk-container-id-1 div.sk-toggleable__content {max-height: 0;max-width: 0;overflow: hidden;text-align: left;background-color: #f0f8ff;}#sk-container-id-1 div.sk-toggleable__content pre {margin: 0.2em;color: black;border-radius: 0.25em;background-color: #f0f8ff;}#sk-container-id-1 input.sk-toggleable__control:checked~div.sk-toggleable__content {max-height: 200px;max-width: 100%;overflow: auto;}#sk-container-id-1 input.sk-toggleable__control:checked~label.sk-toggleable__label-arrow:before {content: \"▾\";}#sk-container-id-1 div.sk-estimator input.sk-toggleable__control:checked~label.sk-toggleable__label {background-color: #d4ebff;}#sk-container-id-1 div.sk-label input.sk-toggleable__control:checked~label.sk-toggleable__label {background-color: #d4ebff;}#sk-container-id-1 input.sk-hidden--visually {border: 0;clip: rect(1px 1px 1px 1px);clip: rect(1px, 1px, 1px, 1px);height: 1px;margin: -1px;overflow: hidden;padding: 0;position: absolute;width: 1px;}#sk-container-id-1 div.sk-estimator {font-family: monospace;background-color: #f0f8ff;border: 1px dotted black;border-radius: 0.25em;box-sizing: border-box;margin-bottom: 0.5em;}#sk-container-id-1 div.sk-estimator:hover {background-color: #d4ebff;}#sk-container-id-1 div.sk-parallel-item::after {content: \"\";width: 100%;border-bottom: 1px solid gray;flex-grow: 1;}#sk-container-id-1 div.sk-label:hover label.sk-toggleable__label {background-color: #d4ebff;}#sk-container-id-1 div.sk-serial::before {content: \"\";position: absolute;border-left: 1px solid gray;box-sizing: border-box;top: 0;bottom: 0;left: 50%;z-index: 0;}#sk-container-id-1 div.sk-serial {display: flex;flex-direction: column;align-items: center;background-color: white;padding-right: 0.2em;padding-left: 0.2em;position: relative;}#sk-container-id-1 div.sk-item {position: relative;z-index: 1;}#sk-container-id-1 div.sk-parallel {display: flex;align-items: stretch;justify-content: center;background-color: white;position: relative;}#sk-container-id-1 div.sk-item::before, #sk-container-id-1 div.sk-parallel-item::before {content: \"\";position: absolute;border-left: 1px solid gray;box-sizing: border-box;top: 0;bottom: 0;left: 50%;z-index: -1;}#sk-container-id-1 div.sk-parallel-item {display: flex;flex-direction: column;z-index: 1;position: relative;background-color: white;}#sk-container-id-1 div.sk-parallel-item:first-child::after {align-self: flex-end;width: 50%;}#sk-container-id-1 div.sk-parallel-item:last-child::after {align-self: flex-start;width: 50%;}#sk-container-id-1 div.sk-parallel-item:only-child::after {width: 0;}#sk-container-id-1 div.sk-dashed-wrapped {border: 1px dashed gray;margin: 0 0.4em 0.5em 0.4em;box-sizing: border-box;padding-bottom: 0.4em;background-color: white;}#sk-container-id-1 div.sk-label label {font-family: monospace;font-weight: bold;display: inline-block;line-height: 1.2em;}#sk-container-id-1 div.sk-label-container {text-align: center;}#sk-container-id-1 div.sk-container {/* jupyter's `normalize.less` sets `[hidden] { display: none; }` but bootstrap.min.css set `[hidden] { display: none !important; }` so we also need the `!important` here to be able to override the default hidden behavior on the sphinx rendered scikit-learn.org. See: https://github.com/scikit-learn/scikit-learn/issues/21755 */display: inline-block !important;position: relative;}#sk-container-id-1 div.sk-text-repr-fallback {display: none;}</style><div id=\"sk-container-id-1\" class=\"sk-top-container\"><div class=\"sk-text-repr-fallback\"><pre>LinearRegression()</pre><b>In a Jupyter environment, please rerun this cell to show the HTML representation or trust the notebook. <br />On GitHub, the HTML representation is unable to render, please try loading this page with nbviewer.org.</b></div><div class=\"sk-container\" hidden><div class=\"sk-item\"><div class=\"sk-estimator sk-toggleable\"><input class=\"sk-toggleable__control sk-hidden--visually\" id=\"sk-estimator-id-1\" type=\"checkbox\" checked><label for=\"sk-estimator-id-1\" class=\"sk-toggleable__label sk-toggleable__label-arrow\">LinearRegression</label><div class=\"sk-toggleable__content\"><pre>LinearRegression()</pre></div></div></div></div></div>"
      ],
      "text/plain": [
       "LinearRegression()"
      ]
     },
     "execution_count": 14,
     "metadata": {},
     "output_type": "execute_result"
    }
   ],
   "source": [
    "lr=LinearRegression()\n",
    "lr.fit(x_train,y_train)"
   ]
  },
  {
   "cell_type": "code",
   "execution_count": 15,
   "metadata": {},
   "outputs": [
    {
     "data": {
      "text/plain": [
       "array([13.32888285, 13.96672421, 10.15565442, 12.26185362,  9.92230041,\n",
       "       14.69177706, 14.36168744, 14.3743044 , 14.93810405, 14.18555544,\n",
       "       14.48810727, 14.90268456, 12.42918992, 14.7319799 , 10.1940606 ,\n",
       "       13.35258816,  7.67703592, 12.78692116, 14.80067869, 14.88544347,\n",
       "       14.92573197, 14.92944121, 12.30504903, 12.25624996, 10.70887098,\n",
       "       13.32902159, 11.11180567, 14.52030961, 14.75615307,  4.90300641,\n",
       "       10.76606645, 14.7323263 ,  4.98006652, 13.25602887, 10.73462815,\n",
       "       13.13774346, 13.24159371, 13.36069551,  5.02905971, 10.27119409,\n",
       "       13.47817859, 12.28169404, 13.76137389,  8.57815558, 13.72220794,\n",
       "       11.44526098, 10.39232745, 11.35202427, 11.79583947, 12.91679359,\n",
       "       10.68142063, 14.93420799, 12.24964219, 14.73770983, 13.1585107 ,\n",
       "       13.19594412, 14.4345327 , 14.50372838, 14.40080994, 13.82598481,\n",
       "       11.32037688, 11.40620776, 14.77110186, 14.94186529, 13.40521846,\n",
       "       14.35757784, 13.29093989, 14.23427027, 12.46001753, 14.92901484,\n",
       "       14.90202524, 14.59428009, 13.66835536, 14.706993  , 11.40809916,\n",
       "       14.48468887, 14.27204635, 13.61893224, 13.31061129, 14.73076011,\n",
       "       10.81540996,  4.96317967, 10.29185625, 14.69032432, 10.93187218,\n",
       "       13.14050736,  7.67081515, 13.73443095, 11.04022224, 10.87299244,\n",
       "       13.3639864 , 14.70340896, 12.65927228, 10.86657844, 10.56325188,\n",
       "       10.90886127, 14.89921931, 10.64903699, 10.52200896, 11.2963152 ,\n",
       "       12.52487938, 10.99093607,  6.10295941, 13.93864643, 13.75600158,\n",
       "        7.38615784, 14.72651302, 12.95347757, 13.27983961, 12.0730897 ,\n",
       "       13.44943259,  8.38932577, 12.46234847, 10.67571136, 14.89082825,\n",
       "        4.63211835, 14.73268605, 14.20832716, 12.84440747, 10.59619422,\n",
       "       11.8418237 , 14.90518861, 11.97588997, 14.5651314 , 14.8874102 ,\n",
       "       12.14415166, 13.37316056, 13.43686781,  7.90056215, 14.5754924 ,\n",
       "       12.64804163, 14.71464887, 14.49951335, 13.92955936])"
      ]
     },
     "execution_count": 15,
     "metadata": {},
     "output_type": "execute_result"
    }
   ],
   "source": [
    "pred=lr.predict(x_test)\n",
    "pred"
   ]
  },
  {
   "cell_type": "code",
   "execution_count": 16,
   "metadata": {},
   "outputs": [
    {
     "data": {
      "text/plain": [
       "array([12.94795904, 14.89833078, 12.80470936, 13.5616714 , 10.77539341,\n",
       "       10.87170782, 14.89625256, 10.92769562, 12.45175416, 11.73377374,\n",
       "       14.41701806, 11.57145249, 10.8505664 , 14.71257938,  8.92390834,\n",
       "       11.99504881, 11.42684427, 14.41925906, 14.89756888, 14.39436067,\n",
       "       13.74979025, 13.43730023, 11.51784407, 12.00980596, 14.40222492,\n",
       "       14.33872373, 10.34731509, 14.11008058, 14.08947915, 14.5807949 ,\n",
       "        9.04214815,  7.81360285, 12.11475863,  4.8252104 ,  9.25262323,\n",
       "       13.70228346, 13.11581094, 10.89996851, 11.88405525,  8.61318344,\n",
       "       12.22422109, 10.51829937, 14.63458818, 14.8845797 , 13.50828383,\n",
       "       14.44920419, 14.93127027, 14.74263155, 11.95176168, 10.18500025,\n",
       "       14.39845335, 14.70645033, 14.48961682, 13.17585775, 13.20858031,\n",
       "       14.02235617, 13.66659843, 14.88830995, 14.89099317, 10.75929091,\n",
       "       12.0258139 , 13.22220673, 11.83638176, 13.30089982, 13.98343421,\n",
       "       13.27672647, 11.58125052, 14.7288721 , 13.2305262 , 13.3657834 ,\n",
       "       11.6877359 , 14.88339482, 12.67438421,  4.3875499 , 13.34244782,\n",
       "       13.72743475, 10.18121283, 13.74849994, 10.65991216, 14.92532591,\n",
       "       12.88330253, 14.70854993, 14.93318304, 13.33492623, 12.18008817,\n",
       "       13.32676954, 13.23923392,  5.90470948,  9.50027437, 13.31583365,\n",
       "       12.54892718, 10.04116659, 14.70395875,  7.48481619, 10.39664934,\n",
       "       14.89922715, 14.49253923, 13.15630959, 14.61246509,  8.67279855,\n",
       "       14.90370701, 13.77955782, 11.38396089, 10.06230035, 10.89668225,\n",
       "        7.25774724, 10.17481397, 13.78970867, 13.70560516, 10.70463671,\n",
       "       12.54786251, 14.58425266, 14.48856801, 14.90716709,  8.59296047,\n",
       "       13.45038095, 14.79952871, 11.44148496, 14.89686077,  7.41831352,\n",
       "       14.57406335, 10.7602578 , 13.60240782, 14.61106132,  5.1093986 ,\n",
       "       12.9274139 , 12.27303013, 11.42264384, 14.49274546, 12.12581742,\n",
       "       11.38795348, 14.10876105, 14.95161898])"
      ]
     },
     "execution_count": 16,
     "metadata": {},
     "output_type": "execute_result"
    }
   ],
   "source": [
    "p=lr.predict(x_train)\n",
    "p"
   ]
  },
  {
   "cell_type": "code",
   "execution_count": 17,
   "metadata": {},
   "outputs": [
    {
     "data": {
      "text/plain": [
       "14      9.55\n",
       "50      8.89\n",
       "220     6.25\n",
       "123    17.88\n",
       "62      6.66\n",
       "       ...  \n",
       "251     8.01\n",
       "192    17.70\n",
       "117     2.41\n",
       "47     13.79\n",
       "172    75.85\n",
       "Name: UR, Length: 133, dtype: float64"
      ]
     },
     "execution_count": 17,
     "metadata": {},
     "output_type": "execute_result"
    }
   ],
   "source": [
    "y_train"
   ]
  },
  {
   "cell_type": "code",
   "execution_count": 18,
   "metadata": {},
   "outputs": [
    {
     "data": {
      "text/plain": [
       "180    10.97\n",
       "73     43.22\n",
       "214     2.65\n",
       "8       6.40\n",
       "261    17.41\n",
       "       ...  \n",
       "86     24.31\n",
       "10      4.66\n",
       "155     2.10\n",
       "252     8.61\n",
       "41     14.84\n",
       "Name: UR, Length: 134, dtype: float64"
      ]
     },
     "execution_count": 18,
     "metadata": {},
     "output_type": "execute_result"
    }
   ],
   "source": [
    "y_test"
   ]
  },
  {
   "cell_type": "code",
   "execution_count": 19,
   "metadata": {},
   "outputs": [
    {
     "data": {
      "text/plain": [
       "array([13.32888285, 13.96672421, 10.15565442, 12.26185362,  9.92230041,\n",
       "       14.69177706, 14.36168744, 14.3743044 , 14.93810405, 14.18555544,\n",
       "       14.48810727, 14.90268456, 12.42918992, 14.7319799 , 10.1940606 ,\n",
       "       13.35258816,  7.67703592, 12.78692116, 14.80067869, 14.88544347,\n",
       "       14.92573197, 14.92944121, 12.30504903, 12.25624996, 10.70887098,\n",
       "       13.32902159, 11.11180567, 14.52030961, 14.75615307,  4.90300641,\n",
       "       10.76606645, 14.7323263 ,  4.98006652, 13.25602887, 10.73462815,\n",
       "       13.13774346, 13.24159371, 13.36069551,  5.02905971, 10.27119409,\n",
       "       13.47817859, 12.28169404, 13.76137389,  8.57815558, 13.72220794,\n",
       "       11.44526098, 10.39232745, 11.35202427, 11.79583947, 12.91679359,\n",
       "       10.68142063, 14.93420799, 12.24964219, 14.73770983, 13.1585107 ,\n",
       "       13.19594412, 14.4345327 , 14.50372838, 14.40080994, 13.82598481,\n",
       "       11.32037688, 11.40620776, 14.77110186, 14.94186529, 13.40521846,\n",
       "       14.35757784, 13.29093989, 14.23427027, 12.46001753, 14.92901484,\n",
       "       14.90202524, 14.59428009, 13.66835536, 14.706993  , 11.40809916,\n",
       "       14.48468887, 14.27204635, 13.61893224, 13.31061129, 14.73076011,\n",
       "       10.81540996,  4.96317967, 10.29185625, 14.69032432, 10.93187218,\n",
       "       13.14050736,  7.67081515, 13.73443095, 11.04022224, 10.87299244,\n",
       "       13.3639864 , 14.70340896, 12.65927228, 10.86657844, 10.56325188,\n",
       "       10.90886127, 14.89921931, 10.64903699, 10.52200896, 11.2963152 ,\n",
       "       12.52487938, 10.99093607,  6.10295941, 13.93864643, 13.75600158,\n",
       "        7.38615784, 14.72651302, 12.95347757, 13.27983961, 12.0730897 ,\n",
       "       13.44943259,  8.38932577, 12.46234847, 10.67571136, 14.89082825,\n",
       "        4.63211835, 14.73268605, 14.20832716, 12.84440747, 10.59619422,\n",
       "       11.8418237 , 14.90518861, 11.97588997, 14.5651314 , 14.8874102 ,\n",
       "       12.14415166, 13.37316056, 13.43686781,  7.90056215, 14.5754924 ,\n",
       "       12.64804163, 14.71464887, 14.49951335, 13.92955936])"
      ]
     },
     "execution_count": 19,
     "metadata": {},
     "output_type": "execute_result"
    }
   ],
   "source": [
    "pred"
   ]
  },
  {
   "cell_type": "code",
   "execution_count": 20,
   "metadata": {},
   "outputs": [],
   "source": [
    "diff=y_test-pred"
   ]
  },
  {
   "cell_type": "code",
   "execution_count": 21,
   "metadata": {},
   "outputs": [
    {
     "data": {
      "text/html": [
       "<div>\n",
       "<style scoped>\n",
       "    .dataframe tbody tr th:only-of-type {\n",
       "        vertical-align: middle;\n",
       "    }\n",
       "\n",
       "    .dataframe tbody tr th {\n",
       "        vertical-align: top;\n",
       "    }\n",
       "\n",
       "    .dataframe thead th {\n",
       "        text-align: right;\n",
       "    }\n",
       "</style>\n",
       "<table border=\"1\" class=\"dataframe\">\n",
       "  <thead>\n",
       "    <tr style=\"text-align: right;\">\n",
       "      <th></th>\n",
       "      <th>actual</th>\n",
       "      <th>predicted</th>\n",
       "      <th>difference</th>\n",
       "    </tr>\n",
       "  </thead>\n",
       "  <tbody>\n",
       "    <tr>\n",
       "      <th>0</th>\n",
       "      <td>10.97</td>\n",
       "      <td>13.328883</td>\n",
       "      <td>-2.358883</td>\n",
       "    </tr>\n",
       "    <tr>\n",
       "      <th>1</th>\n",
       "      <td>43.22</td>\n",
       "      <td>13.966724</td>\n",
       "      <td>29.253276</td>\n",
       "    </tr>\n",
       "    <tr>\n",
       "      <th>2</th>\n",
       "      <td>2.65</td>\n",
       "      <td>10.155654</td>\n",
       "      <td>-7.505654</td>\n",
       "    </tr>\n",
       "    <tr>\n",
       "      <th>3</th>\n",
       "      <td>6.40</td>\n",
       "      <td>12.261854</td>\n",
       "      <td>-5.861854</td>\n",
       "    </tr>\n",
       "    <tr>\n",
       "      <th>4</th>\n",
       "      <td>17.41</td>\n",
       "      <td>9.922300</td>\n",
       "      <td>7.487700</td>\n",
       "    </tr>\n",
       "    <tr>\n",
       "      <th>...</th>\n",
       "      <td>...</td>\n",
       "      <td>...</td>\n",
       "      <td>...</td>\n",
       "    </tr>\n",
       "    <tr>\n",
       "      <th>129</th>\n",
       "      <td>24.31</td>\n",
       "      <td>14.575492</td>\n",
       "      <td>9.734508</td>\n",
       "    </tr>\n",
       "    <tr>\n",
       "      <th>130</th>\n",
       "      <td>4.66</td>\n",
       "      <td>12.648042</td>\n",
       "      <td>-7.988042</td>\n",
       "    </tr>\n",
       "    <tr>\n",
       "      <th>131</th>\n",
       "      <td>2.10</td>\n",
       "      <td>14.714649</td>\n",
       "      <td>-12.614649</td>\n",
       "    </tr>\n",
       "    <tr>\n",
       "      <th>132</th>\n",
       "      <td>8.61</td>\n",
       "      <td>14.499513</td>\n",
       "      <td>-5.889513</td>\n",
       "    </tr>\n",
       "    <tr>\n",
       "      <th>133</th>\n",
       "      <td>14.84</td>\n",
       "      <td>13.929559</td>\n",
       "      <td>0.910441</td>\n",
       "    </tr>\n",
       "  </tbody>\n",
       "</table>\n",
       "<p>134 rows × 3 columns</p>\n",
       "</div>"
      ],
      "text/plain": [
       "     actual  predicted  difference\n",
       "0     10.97  13.328883   -2.358883\n",
       "1     43.22  13.966724   29.253276\n",
       "2      2.65  10.155654   -7.505654\n",
       "3      6.40  12.261854   -5.861854\n",
       "4     17.41   9.922300    7.487700\n",
       "..      ...        ...         ...\n",
       "129   24.31  14.575492    9.734508\n",
       "130    4.66  12.648042   -7.988042\n",
       "131    2.10  14.714649  -12.614649\n",
       "132    8.61  14.499513   -5.889513\n",
       "133   14.84  13.929559    0.910441\n",
       "\n",
       "[134 rows x 3 columns]"
      ]
     },
     "execution_count": 21,
     "metadata": {},
     "output_type": "execute_result"
    }
   ],
   "source": [
    "pd.DataFrame(np.c_[y_test,pred,diff],columns=['actual','predicted','difference'])"
   ]
  },
  {
   "cell_type": "code",
   "execution_count": 22,
   "metadata": {},
   "outputs": [
    {
     "data": {
      "image/png": "[encoded data removed]",
      "text/plain": [
       "<Figure size 640x480 with 1 Axes>"
      ]
     },
     "metadata": {},
     "output_type": "display_data"
    }
   ],
   "source": [
    "plt.scatter(x_train,y_train,color='blue')\n",
    "plt.plot(x_train,lr.predict(x_train),color='red')\n",
    "plt.ylabel('UR')\n",
    "plt.xlabel('EE')\n",
    "plt.title('Unemployment vs Employment')\n",
    "plt.show()"
   ]
  },
  {
   "cell_type": "code",
   "execution_count": 23,
   "metadata": {},
   "outputs": [
    {
     "data": {
      "image/png": "[encoded data removed]",
      "text/plain": [
       "<Figure size 640x480 with 1 Axes>"
      ]
     },
     "metadata": {},
     "output_type": "display_data"
    }
   ],
   "source": [
    "plt.scatter(x_test,y_test,color='blue')\n",
    "plt.plot(x_test,lr.predict(x_test),color='red')\n",
    "plt.ylabel('UR')\n",
    "plt.xlabel('EE')\n",
    "plt.title('Unemployment vs Employment')\n",
    "plt.show()"
   ]
  },
  {
   "cell_type": "code",
   "execution_count": 24,
   "metadata": {},
   "outputs": [
    {
     "data": {
      "text/plain": [
       "0.0680437327236556"
      ]
     },
     "execution_count": 24,
     "metadata": {},
     "output_type": "execute_result"
    }
   ],
   "source": [
    "lr.score(x_test,y_test)"
   ]
  },
  {
   "cell_type": "code",
   "execution_count": 25,
   "metadata": {},
   "outputs": [
    {
     "data": {
      "text/plain": [
       "0.04827648559941844"
      ]
     },
     "execution_count": 25,
     "metadata": {},
     "output_type": "execute_result"
    }
   ],
   "source": [
    "lr.score(x_train,y_train)"
   ]
  },
  {
   "cell_type": "code",
   "execution_count": 26,
   "metadata": {},
   "outputs": [
    {
     "data": {
      "text/plain": [
       "(10.573640312731808, 0.0680437327236556)"
      ]
     },
     "execution_count": 26,
     "metadata": {},
     "output_type": "execute_result"
    }
   ],
   "source": [
    "rm=np.sqrt(mean_squared_error(y_test,pred))\n",
    "r2=r2_score(y_test,pred)\n",
    "rm,r2"
   ]
  },
  {
   "cell_type": "code",
   "execution_count": 27,
   "metadata": {},
   "outputs": [
    {
     "data": {
      "text/plain": [
       "<matplotlib.axes._subplots.AxesSubplot at 0x7fdc96b9e670>"
      ]
     },
     "execution_count": 27,
     "metadata": {},
     "output_type": "execute_result"
    },
    {
     "data": {
      "image/png": "[encoded data removed]",
      "text/plain": [
       "<Figure size 640x480 with 1 Axes>"
      ]
     },
     "metadata": {},
     "output_type": "display_data"
    }
   ],
   "source": [
    "data.plot(kind='hist',x='UR',y='EE')"
   ]
  },
  {
   "cell_type": "code",
   "execution_count": null,
   "metadata": {},
   "outputs": [],
   "source": []
  }
 ],
 "metadata": {
  "kernelspec": {
   "display_name": "Python 3.8.10 64-bit",
   "language": "python",
   "name": "python3"
  },
  "language_info": {
   "codemirror_mode": {
    "name": "ipython",
    "version": 3
   },
   "file_extension": ".py",
   "mimetype": "text/x-python",
   "name": "python",
   "nbconvert_exporter": "python",
   "pygments_lexer": "ipython3",
   "version": "3.8.10"
  },
  "orig_nbformat": 4,
  "vscode": {
   "interpreter": {
    "hash": "916dbcbb3f70747c44a77c7bcd40155683ae19c65e1c03b4aa3499c5328201f1"
   }
  }
 },
 "nbformat": 4,
 "nbformat_minor": 2
}
